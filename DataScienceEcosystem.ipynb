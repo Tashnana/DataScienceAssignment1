{
 "cells": [
  {
   "cell_type": "markdown",
   "id": "bab254bb-0b49-4d51-9153-d9272db43644",
   "metadata": {},
   "source": [
    "#  Data Science Tools and Ecosystem"
   ]
  },
  {
   "cell_type": "markdown",
   "id": "fc234be3-b87b-46b7-ba3c-2801b30a33fb",
   "metadata": {},
   "source": [
    "In this notebook, Data Science Tools and Ecosystem are summarized."
   ]
  },
  {
   "cell_type": "markdown",
   "id": "4159c642-f98b-4e76-8876-5088fdbdd392",
   "metadata": {},
   "source": [
    "__Objectives:__\n",
    "-  List popular languages for Data Science.\n",
    "-  List commonly used libraries for Data Science.\n",
    "-  Indicate some of the development enviroment open source tools used in Data Science.\n",
    "-  Demonstrate some arithmetic that can be acheived in a Jupyter notebook."
   ]
  },
  {
   "cell_type": "markdown",
   "id": "08ca96e1-4c92-420e-8cd6-63d6389e72ce",
   "metadata": {},
   "source": [
    "Some of the popular languages that Data Scientists use are:\n",
    "1. R\n",
    "2. Python\n",
    "3. SQL\n",
    "4. Java\n",
    "5. Scala\n",
    "6. C++"
   ]
  },
  {
   "cell_type": "markdown",
   "id": "9afcbdb6-86cb-426e-a30a-103685b4aee5",
   "metadata": {},
   "source": [
    "Some of the commonly used libraries used by Data Scientists include:\n",
    "1. Pandas\n",
    "2. NumPy\n",
    "3. Matplotlib\n",
    "4. Scikit-learn\n",
    "5. TensorFlow\n",
    "6. ggplot\n",
    "7. Plotly"
   ]
  },
  {
   "cell_type": "markdown",
   "id": "4baf82d9-41e9-470e-9264-774091c7bc86",
   "metadata": {},
   "source": [
    "|  Data Science Tools |\n",
    "|:---- |\n",
    "| JupyterLab |\n",
    "| RStudio |\n",
    "| Visual Studio Code |"
   ]
  },
  {
   "cell_type": "markdown",
   "id": "eec797e4-f89a-447c-a9ab-44ea164cc85a",
   "metadata": {},
   "source": [
    "### Below are a few examples of evaluating arithmetic expressions in Python."
   ]
  },
  {
   "cell_type": "code",
   "execution_count": 2,
   "id": "f6a468de-9a97-46d7-9cc7-9014d047193d",
   "metadata": {},
   "outputs": [
    {
     "data": {
      "text/plain": [
       "17"
      ]
     },
     "execution_count": 2,
     "metadata": {},
     "output_type": "execute_result"
    }
   ],
   "source": [
    "# This a simple arithmetic expression to multiply then add integers.\n",
    "(3*4)+5"
   ]
  },
  {
   "cell_type": "code",
   "execution_count": 3,
   "id": "6b193ea4-c280-479c-89d7-73d379bdf3af",
   "metadata": {},
   "outputs": [
    {
     "data": {
      "text/plain": [
       "3.3333333333333335"
      ]
     },
     "execution_count": 3,
     "metadata": {},
     "output_type": "execute_result"
    }
   ],
   "source": [
    "#  This will convert 200 minutes to hours by diving by 60.\n",
    "200/60"
   ]
  },
  {
   "cell_type": "markdown",
   "id": "7a704c72-9a75-45e2-b128-7821c5d54961",
   "metadata": {},
   "source": [
    "## Author\n",
    "Tashana Mehta-Wilson"
   ]
  }
 ],
 "metadata": {
  "kernelspec": {
   "display_name": "Python 3 (ipykernel)",
   "language": "python",
   "name": "python3"
  },
  "language_info": {
   "codemirror_mode": {
    "name": "ipython",
    "version": 3
   },
   "file_extension": ".py",
   "mimetype": "text/x-python",
   "name": "python",
   "nbconvert_exporter": "python",
   "pygments_lexer": "ipython3",
   "version": "3.11.9"
  }
 },
 "nbformat": 4,
 "nbformat_minor": 5
}
